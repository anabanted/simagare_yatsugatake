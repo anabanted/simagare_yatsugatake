{
 "cells": [
  {
   "cell_type": "code",
   "execution_count": 1,
   "id": "5ce81474-b5d1-49f2-a65e-72b64ab50af2",
   "metadata": {},
   "outputs": [],
   "source": [
    "import pandas as pd\n",
    "import scipy.stats as st\n",
    "import numpy as np\n",
    "import matplotlib.pyplot as plt\n",
    "import statsmodels.api as sm\n",
    "import seaborn as sns"
   ]
  },
  {
   "cell_type": "code",
   "execution_count": 2,
   "id": "39345419-57cc-4d3f-a639-df03153cae0d",
   "metadata": {},
   "outputs": [],
   "source": [
    "saiko_pre = pd.read_csv(\"saiko.csv\")\n",
    "saiko = saiko_pre[0:35].copy()\n",
    "chukan = pd.read_csv(\"chukan.csv\")\n",
    "saite = pd.read_csv(\"saite.csv\")\n",
    "saiko[\"周囲長(cm)\"]=saiko[\"周囲長(cm)\"]/100"
   ]
  },
  {
   "cell_type": "code",
   "execution_count": 3,
   "id": "4d79e510-612a-4876-b37b-9c391422f9ca",
   "metadata": {},
   "outputs": [
    {
     "data": {
      "text/plain": [
       "<AxesSubplot:>"
      ]
     },
     "execution_count": 3,
     "metadata": {},
     "output_type": "execute_result"
    },
    {
     "data": {
      "image/png": "[encoded data removed]",
      "text/plain": [
       "<Figure size 432x288 with 1 Axes>"
      ]
     },
     "metadata": {
      "needs_background": "light"
     },
     "output_type": "display_data"
    }
   ],
   "source": [
    "saite[\"高さ(m)\"].hist()\n",
    "chukan[\"高さ(m)\"].hist()"
   ]
  },
  {
   "cell_type": "code",
   "execution_count": 4,
   "id": "be6b8107-bca9-4f74-b23c-b6f9ac9d548b",
   "metadata": {},
   "outputs": [
    {
     "data": {
      "text/plain": [
       "MannwhitneyuResult(statistic=1215.0, pvalue=0.8225652949883435)"
      ]
     },
     "execution_count": 4,
     "metadata": {},
     "output_type": "execute_result"
    }
   ],
   "source": [
    "st.mannwhitneyu(chukan[\"高さ(m)\"],saite[\"高さ(m)\"])"
   ]
  },
  {
   "cell_type": "code",
   "execution_count": 5,
   "id": "48bf2b4a-12e5-4608-97e7-9c0957be293a",
   "metadata": {},
   "outputs": [],
   "source": [
    "def is_shinyoju(sp):\n",
    "    if sp == \"オオシラビソ\":\n",
    "        return True\n",
    "    elif sp == \"シラビソ\":\n",
    "        return True\n",
    "    elif sp == \"ナナカマド\":\n",
    "        return False\n",
    "    elif sp == \"ダケカンバ\":\n",
    "        return False"
   ]
  },
  {
   "cell_type": "code",
   "execution_count": 6,
   "id": "f1ffcce8-6be7-40b5-85e8-4d5c9207d587",
   "metadata": {},
   "outputs": [],
   "source": [
    "saite[\"sp\"]=saite[\"種類\"].map(is_shinyoju)"
   ]
  },
  {
   "cell_type": "code",
   "execution_count": 32,
   "id": "17be52fe-a425-4ef6-91b0-da5bf36f4537",
   "metadata": {},
   "outputs": [],
   "source": [
    "def taiseki(data): #m3\n",
    "    shuicho = data[\"周囲長(cm)\"] #本当はm\n",
    "    takasa = data[\"高さ(m)\"]\n",
    "    hankei = shuicho/(2*np.pi)\n",
    "    temenseki = hankei**2 * np.pi\n",
    "    taiseki = temenseki * takasa /3\n",
    "    return taiseki\n",
    "def biomass(data):\n",
    "    if data[\"sp\"][0]:\n",
    "        ans = 0.4 * data[\"体積\"] * 10**6 / 1000\n",
    "    else:\n",
    "        ans = 0.6 * data[\"体積\"] * 10**6 / 1000\n",
    "    return ans\n",
    "def junichiziseisan(data,years):\n",
    "    return data[\"バイオマス\"].sum()*490/30/years*1000"
   ]
  },
  {
   "cell_type": "code",
   "execution_count": 28,
   "id": "6c063428-9818-479d-895b-34f5e97567cd",
   "metadata": {},
   "outputs": [],
   "source": [
    "saite[\"体積\"]=taiseki(saite)\n",
    "saite[\"バイオマス\"]=biomass(saite)"
   ]
  },
  {
   "cell_type": "code",
   "execution_count": 35,
   "id": "bebaedf3-b731-47b8-9d4b-8b85266b4e56",
   "metadata": {},
   "outputs": [
    {
     "data": {
      "text/plain": [
       "127020.73577928689"
      ]
     },
     "execution_count": 35,
     "metadata": {},
     "output_type": "execute_result"
    }
   ],
   "source": [
    "junichiziseisan(saite,70)"
   ]
  },
  {
   "cell_type": "code",
   "execution_count": 36,
   "id": "1893f852-9856-487e-ac74-237ec70a1b6a",
   "metadata": {},
   "outputs": [
    {
     "name": "stdout",
     "output_type": "stream",
     "text": [
      "0.023200134388910845 %\n"
     ]
    }
   ],
   "source": [
    "print(junichiziseisan(saite,70) / 1000 /100 /365 /15 *100, \"%\")"
   ]
  },
  {
   "cell_type": "code",
   "execution_count": 37,
   "id": "22c2a254-4841-4f13-9c77-a6780f186022",
   "metadata": {},
   "outputs": [
    {
     "name": "stdout",
     "output_type": "stream",
     "text": [
      "0.010430318069586962 %\n"
     ]
    }
   ],
   "source": [
    "saiko[\"sp\"]=saiko[\"種類\"].map(is_shinyoju)\n",
    "saiko[\"体積\"]=taiseki(saiko)\n",
    "saiko[\"バイオマス\"]=biomass(saiko)\n",
    "print(junichiziseisan(saiko,20) / 1000 /100 /365 /15 *100, \"%\")"
   ]
  },
  {
   "cell_type": "code",
   "execution_count": 38,
   "id": "f0728059-b06b-4859-a1d9-fe8182e5991a",
   "metadata": {},
   "outputs": [
    {
     "name": "stdout",
     "output_type": "stream",
     "text": [
      "0.04010064527827901 %\n"
     ]
    }
   ],
   "source": [
    "chukan[\"sp\"]=chukan[\"種類\"].map(is_shinyoju)\n",
    "chukan[\"体積\"]=taiseki(chukan)\n",
    "chukan[\"バイオマス\"]=biomass(chukan)\n",
    "print(junichiziseisan(chukan,50) / 1000 /100 /365 /15 *100, \"%\")"
   ]
  },
  {
   "cell_type": "code",
   "execution_count": 13,
   "id": "2e37b074-9d6f-46ef-bd41-d348b44638e0",
   "metadata": {},
   "outputs": [],
   "source": [
    "file = saiko\n",
    "area = 18.42\n",
    "\n",
    "saiko_dence = len(file)/area #個体数/m2\n",
    "saiko_taiju = file[\"バイオマス\"].mean()"
   ]
  },
  {
   "cell_type": "code",
   "execution_count": 14,
   "id": "f1b39ffd-994e-4271-87af-6ea7e775f5eb",
   "metadata": {},
   "outputs": [],
   "source": [
    "file = chukan\n",
    "area = 100\n",
    "\n",
    "chukan_dence = len(file)/area #個体数/m2\n",
    "chukan_taiju = file[\"バイオマス\"].mean()"
   ]
  },
  {
   "cell_type": "code",
   "execution_count": 15,
   "id": "fe11b941-0aab-4bbd-836f-01c8fa660f3b",
   "metadata": {},
   "outputs": [],
   "source": [
    "file = saite\n",
    "area = 100\n",
    "\n",
    "saite_dence = len(file)/area #個体数/m2\n",
    "saite_taiju = file[\"バイオマス\"].mean()"
   ]
  },
  {
   "cell_type": "code",
   "execution_count": 26,
   "id": "a5d2c60d-2743-47b7-aa65-a21214f15ee4",
   "metadata": {},
   "outputs": [
    {
     "name": "stderr",
     "output_type": "stream",
     "text": [
      "/opt/conda/lib/python3.9/site-packages/statsmodels/stats/stattools.py:74: ValueWarning: omni_normtest is not valid with less than 8 observations; 3 samples were given.\n",
      "  warn(\"omni_normtest is not valid with less than 8 observations; %i \"\n"
     ]
    },
    {
     "data": {
      "text/html": [
       "<table class=\"simpletable\">\n",
       "<caption>OLS Regression Results</caption>\n",
       "<tr>\n",
       "  <th>Dep. Variable:</th>            <td>y</td>        <th>  R-squared:         </th> <td>   0.992</td>\n",
       "</tr>\n",
       "<tr>\n",
       "  <th>Model:</th>                   <td>OLS</td>       <th>  Adj. R-squared:    </th> <td>   0.985</td>\n",
       "</tr>\n",
       "<tr>\n",
       "  <th>Method:</th>             <td>Least Squares</td>  <th>  F-statistic:       </th> <td>   131.3</td>\n",
       "</tr>\n",
       "<tr>\n",
       "  <th>Date:</th>             <td>Thu, 22 Sep 2022</td> <th>  Prob (F-statistic):</th>  <td>0.0554</td> \n",
       "</tr>\n",
       "<tr>\n",
       "  <th>Time:</th>                 <td>09:51:49</td>     <th>  Log-Likelihood:    </th> <td>  3.5321</td>\n",
       "</tr>\n",
       "<tr>\n",
       "  <th>No. Observations:</th>      <td>     3</td>      <th>  AIC:               </th> <td>  -3.064</td>\n",
       "</tr>\n",
       "<tr>\n",
       "  <th>Df Residuals:</th>          <td>     1</td>      <th>  BIC:               </th> <td>  -4.867</td>\n",
       "</tr>\n",
       "<tr>\n",
       "  <th>Df Model:</th>              <td>     1</td>      <th>                     </th>     <td> </td>   \n",
       "</tr>\n",
       "<tr>\n",
       "  <th>Covariance Type:</th>      <td>nonrobust</td>    <th>                     </th>     <td> </td>   \n",
       "</tr>\n",
       "</table>\n",
       "<table class=\"simpletable\">\n",
       "<tr>\n",
       "    <td></td>       <th>coef</th>     <th>std err</th>      <th>t</th>      <th>P>|t|</th>  <th>[0.025</th>    <th>0.975]</th>  \n",
       "</tr>\n",
       "<tr>\n",
       "  <th>const</th> <td>    1.5563</td> <td>    0.080</td> <td>   19.421</td> <td> 0.033</td> <td>    0.538</td> <td>    2.575</td>\n",
       "</tr>\n",
       "<tr>\n",
       "  <th>x1</th>    <td>   -1.3549</td> <td>    0.118</td> <td>  -11.460</td> <td> 0.055</td> <td>   -2.857</td> <td>    0.147</td>\n",
       "</tr>\n",
       "</table>\n",
       "<table class=\"simpletable\">\n",
       "<tr>\n",
       "  <th>Omnibus:</th>       <td>   nan</td> <th>  Durbin-Watson:     </th> <td>   2.408</td>\n",
       "</tr>\n",
       "<tr>\n",
       "  <th>Prob(Omnibus):</th> <td>   nan</td> <th>  Jarque-Bera (JB):  </th> <td>   0.287</td>\n",
       "</tr>\n",
       "<tr>\n",
       "  <th>Skew:</th>          <td>-0.110</td> <th>  Prob(JB):          </th> <td>   0.866</td>\n",
       "</tr>\n",
       "<tr>\n",
       "  <th>Kurtosis:</th>      <td> 1.500</td> <th>  Cond. No.          </th> <td>    1.74</td>\n",
       "</tr>\n",
       "</table><br/><br/>Notes:<br/>[1] Standard Errors assume that the covariance matrix of the errors is correctly specified."
      ],
      "text/plain": [
       "<class 'statsmodels.iolib.summary.Summary'>\n",
       "\"\"\"\n",
       "                            OLS Regression Results                            \n",
       "==============================================================================\n",
       "Dep. Variable:                      y   R-squared:                       0.992\n",
       "Model:                            OLS   Adj. R-squared:                  0.985\n",
       "Method:                 Least Squares   F-statistic:                     131.3\n",
       "Date:                Thu, 22 Sep 2022   Prob (F-statistic):             0.0554\n",
       "Time:                        09:51:49   Log-Likelihood:                 3.5321\n",
       "No. Observations:                   3   AIC:                            -3.064\n",
       "Df Residuals:                       1   BIC:                            -4.867\n",
       "Df Model:                           1                                         \n",
       "Covariance Type:            nonrobust                                         \n",
       "==============================================================================\n",
       "                 coef    std err          t      P>|t|      [0.025      0.975]\n",
       "------------------------------------------------------------------------------\n",
       "const          1.5563      0.080     19.421      0.033       0.538       2.575\n",
       "x1            -1.3549      0.118    -11.460      0.055      -2.857       0.147\n",
       "==============================================================================\n",
       "Omnibus:                          nan   Durbin-Watson:                   2.408\n",
       "Prob(Omnibus):                    nan   Jarque-Bera (JB):                0.287\n",
       "Skew:                          -0.110   Prob(JB):                        0.866\n",
       "Kurtosis:                       1.500   Cond. No.                         1.74\n",
       "==============================================================================\n",
       "\n",
       "Notes:\n",
       "[1] Standard Errors assume that the covariance matrix of the errors is correctly specified.\n",
       "\"\"\""
      ]
     },
     "execution_count": 26,
     "metadata": {},
     "output_type": "execute_result"
    },
    {
     "data": {
      "image/png": "[encoded data removed]",
      "text/plain": [
       "<Figure size 432x288 with 1 Axes>"
      ]
     },
     "metadata": {
      "needs_background": "light"
     },
     "output_type": "display_data"
    }
   ],
   "source": [
    "dence = [saiko_dence, chukan_dence, saite_dence]\n",
    "taiju = [saiko_taiju, chukan_taiju, saite_taiju]\n",
    "log_dence = np.log(dence)\n",
    "log_taiju = np.log(taiju)\n",
    "\n",
    "x = log_dence\n",
    "y = log_taiju\n",
    "n = 3\n",
    "\n",
    "plt.scatter(x,y)\n",
    "X = sm.add_constant(x)\n",
    "model = sm.OLS(y, X)\n",
    "fitted = model.fit()\n",
    "x_pred = np.linspace(x.min(),x.max(),50)\n",
    "X_pred = sm.add_constant(x_pred)\n",
    "y_pred = fitted.predict(X_pred)\n",
    "plt.plot(x_pred,y_pred)\n",
    "y_hat = fitted.predict(X)\n",
    "y_err = y - y_hat\n",
    "mean_x = np.mean(x)\n",
    "dof = n - fitted.df_model -1\n",
    "alpha = 0.05\n",
    "t = st.t.ppf(1-alpha, df=dof)\n",
    "s_err = np.sum(y_err**2)\n",
    "std_err = np.sqrt(s_err/(n-2))\n",
    "std_x = np.std(x)\n",
    "conf = t*std_err/np.sqrt(n)*np.sqrt(1+((x_pred-mean_x)/std_x)**2)\n",
    "upper = y_pred + abs(conf)\n",
    "lower = y_pred - abs(conf)\n",
    "plt.fill_between(x_pred,lower,upper,color='gray',alpha=0.4)\n",
    "\n",
    "y_theory = -1.5 * (x_pred - mean_x) + np.mean(log_taiju)\n",
    "plt.plot(x_pred,y_theory)\n",
    "fitted.params\n",
    "\n",
    "fitted.summary()"
   ]
  },
  {
   "cell_type": "code",
   "execution_count": 25,
   "id": "347fdc1b-5147-4055-a95d-cdb2aa0e0b09",
   "metadata": {},
   "outputs": [
    {
     "data": {
      "text/html": [
       "<table class=\"simpletable\">\n",
       "<caption>OLS Regression Results</caption>\n",
       "<tr>\n",
       "  <th>Dep. Variable:</th>          <td>高さ(m)</td>      <th>  R-squared:         </th> <td>   0.662</td>\n",
       "</tr>\n",
       "<tr>\n",
       "  <th>Model:</th>                   <td>OLS</td>       <th>  Adj. R-squared:    </th> <td>   0.660</td>\n",
       "</tr>\n",
       "<tr>\n",
       "  <th>Method:</th>             <td>Least Squares</td>  <th>  F-statistic:       </th> <td>   260.6</td>\n",
       "</tr>\n",
       "<tr>\n",
       "  <th>Date:</th>             <td>Thu, 22 Sep 2022</td> <th>  Prob (F-statistic):</th> <td>3.91e-33</td>\n",
       "</tr>\n",
       "<tr>\n",
       "  <th>Time:</th>                 <td>09:51:28</td>     <th>  Log-Likelihood:    </th> <td> -10.926</td>\n",
       "</tr>\n",
       "<tr>\n",
       "  <th>No. Observations:</th>      <td>   135</td>      <th>  AIC:               </th> <td>   25.85</td>\n",
       "</tr>\n",
       "<tr>\n",
       "  <th>Df Residuals:</th>          <td>   133</td>      <th>  BIC:               </th> <td>   31.66</td>\n",
       "</tr>\n",
       "<tr>\n",
       "  <th>Df Model:</th>              <td>     1</td>      <th>                     </th>     <td> </td>   \n",
       "</tr>\n",
       "<tr>\n",
       "  <th>Covariance Type:</th>      <td>nonrobust</td>    <th>                     </th>     <td> </td>   \n",
       "</tr>\n",
       "</table>\n",
       "<table class=\"simpletable\">\n",
       "<tr>\n",
       "     <td></td>        <th>coef</th>     <th>std err</th>      <th>t</th>      <th>P>|t|</th>  <th>[0.025</th>    <th>0.975]</th>  \n",
       "</tr>\n",
       "<tr>\n",
       "  <th>const</th>   <td>    0.6610</td> <td>    0.074</td> <td>    8.920</td> <td> 0.000</td> <td>    0.514</td> <td>    0.808</td>\n",
       "</tr>\n",
       "<tr>\n",
       "  <th>周囲長(cm)</th> <td>    0.7670</td> <td>    0.048</td> <td>   16.143</td> <td> 0.000</td> <td>    0.673</td> <td>    0.861</td>\n",
       "</tr>\n",
       "</table>\n",
       "<table class=\"simpletable\">\n",
       "<tr>\n",
       "  <th>Omnibus:</th>       <td>35.511</td> <th>  Durbin-Watson:     </th> <td>   1.348</td>\n",
       "</tr>\n",
       "<tr>\n",
       "  <th>Prob(Omnibus):</th> <td> 0.000</td> <th>  Jarque-Bera (JB):  </th> <td> 109.337</td>\n",
       "</tr>\n",
       "<tr>\n",
       "  <th>Skew:</th>          <td>-0.944</td> <th>  Prob(JB):          </th> <td>1.81e-24</td>\n",
       "</tr>\n",
       "<tr>\n",
       "  <th>Kurtosis:</th>      <td> 6.984</td> <th>  Cond. No.          </th> <td>    7.03</td>\n",
       "</tr>\n",
       "</table><br/><br/>Notes:<br/>[1] Standard Errors assume that the covariance matrix of the errors is correctly specified."
      ],
      "text/plain": [
       "<class 'statsmodels.iolib.summary.Summary'>\n",
       "\"\"\"\n",
       "                            OLS Regression Results                            \n",
       "==============================================================================\n",
       "Dep. Variable:                  高さ(m)   R-squared:                       0.662\n",
       "Model:                            OLS   Adj. R-squared:                  0.660\n",
       "Method:                 Least Squares   F-statistic:                     260.6\n",
       "Date:                Thu, 22 Sep 2022   Prob (F-statistic):           3.91e-33\n",
       "Time:                        09:51:28   Log-Likelihood:                -10.926\n",
       "No. Observations:                 135   AIC:                             25.85\n",
       "Df Residuals:                     133   BIC:                             31.66\n",
       "Df Model:                           1                                         \n",
       "Covariance Type:            nonrobust                                         \n",
       "==============================================================================\n",
       "                 coef    std err          t      P>|t|      [0.025      0.975]\n",
       "------------------------------------------------------------------------------\n",
       "const          0.6610      0.074      8.920      0.000       0.514       0.808\n",
       "周囲長(cm)        0.7670      0.048     16.143      0.000       0.673       0.861\n",
       "==============================================================================\n",
       "Omnibus:                       35.511   Durbin-Watson:                   1.348\n",
       "Prob(Omnibus):                  0.000   Jarque-Bera (JB):              109.337\n",
       "Skew:                          -0.944   Prob(JB):                     1.81e-24\n",
       "Kurtosis:                       6.984   Cond. No.                         7.03\n",
       "==============================================================================\n",
       "\n",
       "Notes:\n",
       "[1] Standard Errors assume that the covariance matrix of the errors is correctly specified.\n",
       "\"\"\""
      ]
     },
     "execution_count": 25,
     "metadata": {},
     "output_type": "execute_result"
    },
    {
     "data": {
      "image/png": "[encoded data removed]",
      "text/plain": [
       "<Figure size 432x288 with 1 Axes>"
      ]
     },
     "metadata": {
      "needs_background": "light"
     },
     "output_type": "display_data"
    }
   ],
   "source": [
    "all_data = pd.concat([saiko,chukan,saite])\n",
    "x = np.log(all_data[\"周囲長(cm)\"]/(2*np.pi)*100)\n",
    "y = np.log(all_data[\"高さ(m)\"])\n",
    "n = len(all_data)\n",
    "\n",
    "plt.scatter(x,y)\n",
    "X = sm.add_constant(x)\n",
    "model = sm.OLS(y, X)\n",
    "fitted = model.fit()\n",
    "x_pred = np.linspace(x.min(),x.max(),50)\n",
    "X_pred = sm.add_constant(x_pred)\n",
    "y_pred = fitted.predict(X_pred)\n",
    "plt.plot(x_pred,y_pred)\n",
    "y_hat = fitted.predict(X)\n",
    "y_err = y - y_hat\n",
    "mean_x = np.mean(x)\n",
    "dof = n - fitted.df_model -1\n",
    "alpha = 0.05\n",
    "t = st.t.ppf(1-alpha, df=dof)\n",
    "s_err = np.sum(y_err**2)\n",
    "std_err = np.sqrt(s_err/(n-2))\n",
    "std_x = np.std(x)\n",
    "conf = t*std_err/np.sqrt(n)*np.sqrt(1+((x_pred-mean_x)/std_x)**2)\n",
    "upper = y_pred + abs(conf)\n",
    "lower = y_pred - abs(conf)\n",
    "plt.fill_between(x_pred,lower,upper,color='gray',alpha=0.4)\n",
    "\n",
    "y_theory = 1 * (x_pred - mean_x) + np.mean(log_taiju)\n",
    "plt.plot(x_pred,y_theory)\n",
    "fitted.params\n",
    "\n",
    "fitted.summary()"
   ]
  },
  {
   "cell_type": "code",
   "execution_count": 21,
   "id": "f1afa7f8-3f41-439b-9c4c-02dec8639e54",
   "metadata": {},
   "outputs": [
    {
     "data": {
      "text/plain": [
       "<matplotlib.collections.PathCollection at 0x72a17ec340>"
      ]
     },
     "execution_count": 21,
     "metadata": {},
     "output_type": "execute_result"
    },
    {
     "data": {
      "image/png": "[encoded data removed]",
      "text/plain": [
       "<Figure size 432x288 with 1 Axes>"
      ]
     },
     "metadata": {
      "needs_background": "light"
     },
     "output_type": "display_data"
    }
   ],
   "source": [
    "plt.scatter(np.log(saiko[\"周囲長(cm)\"]/(2*np.pi)*100),np.log(saiko[\"高さ(m)\"]))\n",
    "plt.scatter(np.log(chukan[\"周囲長(cm)\"]/(2*np.pi)*100),np.log(chukan[\"高さ(m)\"]))\n",
    "plt.scatter(np.log(saite[\"周囲長(cm)\"]/(2*np.pi)*100),np.log(saite[\"高さ(m)\"]))"
   ]
  },
  {
   "cell_type": "code",
   "execution_count": 21,
   "id": "dfe18ddf-0221-4309-8828-4613316898f3",
   "metadata": {},
   "outputs": [
    {
     "data": {
      "text/plain": [
       "<matplotlib.collections.PathCollection at 0x7819629280>"
      ]
     },
     "execution_count": 21,
     "metadata": {},
     "output_type": "execute_result"
    },
    {
     "data": {
      "image/png": "[encoded data removed]",
      "text/plain": [
       "<Figure size 432x288 with 1 Axes>"
      ]
     },
     "metadata": {
      "needs_background": "light"
     },
     "output_type": "display_data"
    }
   ],
   "source": [
    "plt.scatter(saiko[\"周囲長(cm)\"]/(2*np.pi)*100,saiko[\"高さ(m)\"])\n"
   ]
  }
 ],
 "metadata": {
  "kernelspec": {
   "display_name": "Python 3 (ipykernel)",
   "language": "python",
   "name": "python3"
  },
  "language_info": {
   "codemirror_mode": {
    "name": "ipython",
    "version": 3
   },
   "file_extension": ".py",
   "mimetype": "text/x-python",
   "name": "python",
   "nbconvert_exporter": "python",
   "pygments_lexer": "ipython3",
   "version": "3.9.12"
  }
 },
 "nbformat": 4,
 "nbformat_minor": 5
}
